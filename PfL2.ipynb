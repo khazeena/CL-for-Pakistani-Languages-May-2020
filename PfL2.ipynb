{
  "nbformat": 4,
  "nbformat_minor": 0,
  "metadata": {
    "colab": {
      "name": "PfL2.ipynb",
      "provenance": [],
      "collapsed_sections": []
    },
    "kernelspec": {
      "name": "python3",
      "display_name": "Python 3"
    }
  },
  "cells": [
    {
      "cell_type": "markdown",
      "metadata": {
        "id": "tSz3SmjpYRLR",
        "colab_type": "text"
      },
      "source": [
        "# Programming for Linguists - 2\n",
        "By Tafseer Ahmed\n",
        "\n",
        "Topics: \n",
        "\n",
        "Control Structures: (for), if-else\n",
        "\n",
        "Data Structures: (list), set\n",
        "\n",
        "Library: NLTK (tokenize and part of speech tagging)"
      ]
    },
    {
      "cell_type": "markdown",
      "metadata": {
        "id": "61CJDrP7ZMl3",
        "colab_type": "text"
      },
      "source": [
        "# If statement"
      ]
    },
    {
      "cell_type": "markdown",
      "metadata": {
        "id": "_hpBe6mlZLDe",
        "colab_type": "text"
      },
      "source": [
        "The following code has the function input that returns the text given to it.\n",
        "\n",
        "The second line uses the function len that returns length of the string (text)."
      ]
    },
    {
      "cell_type": "code",
      "metadata": {
        "id": "eRS0zw0c_qMy",
        "colab_type": "code",
        "colab": {
          "base_uri": "https://localhost:8080/",
          "height": 67
        },
        "outputId": "20ffe142-871a-4694-afe5-bdbdc4a189c6"
      },
      "source": [
        "word = input(\"enter a word\\n\")\n",
        "print(\"Length: \", len(word))"
      ],
      "execution_count": 73,
      "outputs": [
        {
          "output_type": "stream",
          "text": [
            "enter a word\n",
            "language\n",
            "Length:  8\n"
          ],
          "name": "stdout"
        }
      ]
    },
    {
      "cell_type": "markdown",
      "metadata": {
        "id": "UDRzCAGFZv4Y",
        "colab_type": "text"
      },
      "source": [
        "Now, we want to check whether the input word has more than five letters. The condictions are checked or evaluated using **if** statement."
      ]
    },
    {
      "cell_type": "code",
      "metadata": {
        "id": "P62gchukEoOu",
        "colab_type": "code",
        "colab": {
          "base_uri": "https://localhost:8080/",
          "height": 34
        },
        "outputId": "c5be4e55-5b8b-4f4e-b5a4-ab0dfae69fab"
      },
      "source": [
        "word = \"language\"\n",
        "\n",
        "if len(word) > 5:\n",
        "  print(\"The word has more than 5 letters.\")\n"
      ],
      "execution_count": 74,
      "outputs": [
        {
          "output_type": "stream",
          "text": [
            "The word has more than 5 letters.\n"
          ],
          "name": "stdout"
        }
      ]
    },
    {
      "cell_type": "code",
      "metadata": {
        "id": "Omf3Q77KaRw9",
        "colab_type": "code",
        "colab": {}
      },
      "source": [
        "word = \"code\"\n",
        "\n",
        "if len(word) > 5:\n",
        "  print(\"The word has more than 5 letters.\")"
      ],
      "execution_count": 0,
      "outputs": []
    },
    {
      "cell_type": "markdown",
      "metadata": {
        "id": "C1TaKylHaDPH",
        "colab_type": "text"
      },
      "source": [
        "In the above examples, a message is printed if the word has more than fice letters. However, it does not print any message, if the input word is of 5 letters or less.\n",
        "\n",
        "To print the other message (or execute other statements) when the condition of **if** is not satisfied, we use for **else** following the **if**."
      ]
    },
    {
      "cell_type": "code",
      "metadata": {
        "id": "HGiRwX1fFXGW",
        "colab_type": "code",
        "colab": {
          "base_uri": "https://localhost:8080/",
          "height": 50
        },
        "outputId": "4dacf023-c341-4d76-c6ef-499523a7e9c3"
      },
      "source": [
        "word = input()\n",
        "if len(word) > 5:\n",
        "  print(\"The word has more than 5 letters.\")\n",
        "else:\n",
        "  print(\"The word has 5 or less letters.\")"
      ],
      "execution_count": 76,
      "outputs": [
        {
          "output_type": "stream",
          "text": [
            "book\n",
            "The word has 5 or less letters.\n"
          ],
          "name": "stdout"
        }
      ]
    },
    {
      "cell_type": "markdown",
      "metadata": {
        "id": "ERCl5goBbRpa",
        "colab_type": "text"
      },
      "source": [
        "Now, we want more precise messages. The code should take input and it should tell us whether the length of the word is of 4 letters, or greater than 4 letters or less than four letters.\n",
        "\n",
        "For this we use **elif** too which is the short form of ELseIF.\n"
      ]
    },
    {
      "cell_type": "code",
      "metadata": {
        "id": "VPf5yLAFGFp6",
        "colab_type": "code",
        "colab": {
          "base_uri": "https://localhost:8080/",
          "height": 50
        },
        "outputId": "c062d128-bae6-4b7b-e5c1-7dcf57c6ffbc"
      },
      "source": [
        "word = input()\n",
        "length = len(word)\n",
        "\n",
        "if length > 4:\n",
        "  print(\"The word has more than four letters.\")\n",
        "elif length == 4:\n",
        "  print(\"The word has four letters.\")\n",
        "else:\n",
        "  print(\"The word has less than four letters.\")"
      ],
      "execution_count": 77,
      "outputs": [
        {
          "output_type": "stream",
          "text": [
            "Pakistan\n",
            "The word has more than four letters.\n"
          ],
          "name": "stdout"
        }
      ]
    },
    {
      "cell_type": "markdown",
      "metadata": {
        "id": "sRpez1Hkb8Si",
        "colab_type": "text"
      },
      "source": [
        "Now, we return to the problem of vowel counting (As we did in the previous notebook.)\n",
        "\n",
        "This time, we iterate (loop through) the characters in the string *word*. A **string** is a **list** of characters. "
      ]
    },
    {
      "cell_type": "code",
      "metadata": {
        "id": "Vp4pP3NnAMze",
        "colab_type": "code",
        "colab": {
          "base_uri": "https://localhost:8080/",
          "height": 151
        },
        "outputId": "72a2136b-bd28-458f-a70e-a1422d4f460d"
      },
      "source": [
        "for ch in word:\n",
        "  print(ch)"
      ],
      "execution_count": 78,
      "outputs": [
        {
          "output_type": "stream",
          "text": [
            "P\n",
            "a\n",
            "k\n",
            "i\n",
            "s\n",
            "t\n",
            "a\n",
            "n\n"
          ],
          "name": "stdout"
        }
      ]
    },
    {
      "cell_type": "markdown",
      "metadata": {
        "id": "UKgES5HfdJgd",
        "colab_type": "text"
      },
      "source": [
        "We make of list of vowels. Then for each character of the string (element of the list), we checked whether it is present in the vowel list. If it is present, then the *count* of the vowels is increases.\n",
        "\n",
        "Note how the code is indented (by tab) after the colons of for and if statements."
      ]
    },
    {
      "cell_type": "code",
      "metadata": {
        "id": "N7zWMXNoAaMB",
        "colab_type": "code",
        "colab": {
          "base_uri": "https://localhost:8080/",
          "height": 34
        },
        "outputId": "0d31a6c5-f371-4dd5-c835-250f5022bd70"
      },
      "source": [
        "vowels = ['a','e','i','o','u']\n",
        "count = 0\n",
        "for ch in word:\n",
        "  if ch in vowels:\n",
        "    count = count + 1\n",
        "\n",
        "print(\"The word \", word, \"has \", count, \" vowel letters.\")"
      ],
      "execution_count": 79,
      "outputs": [
        {
          "output_type": "stream",
          "text": [
            "The word  Pakistan has  3  vowel letters.\n"
          ],
          "name": "stdout"
        }
      ]
    },
    {
      "cell_type": "markdown",
      "metadata": {
        "id": "E7qQuvEnd6FH",
        "colab_type": "text"
      },
      "source": [
        "If we want to count the non-vowels i.e. the letters that are not in the *vowels* list, then we should use *not in*."
      ]
    },
    {
      "cell_type": "code",
      "metadata": {
        "id": "8navZfaFBoWj",
        "colab_type": "code",
        "colab": {
          "base_uri": "https://localhost:8080/",
          "height": 34
        },
        "outputId": "2c771655-b7c2-4dce-f1a0-be1ac0b8106e"
      },
      "source": [
        "for ch in word:\n",
        "  if ch not in vowels:\n",
        "    count = count + 1\n",
        "\n",
        "print(\"The word \", word, \"has \", count, \" non-vowel letters.\")"
      ],
      "execution_count": 80,
      "outputs": [
        {
          "output_type": "stream",
          "text": [
            "The word  Pakistan has  8  non-vowel letters.\n"
          ],
          "name": "stdout"
        }
      ]
    },
    {
      "cell_type": "markdown",
      "metadata": {
        "id": "6lM6FrYHeQvW",
        "colab_type": "text"
      },
      "source": [
        "The above code gave the wrong result. The reason is that we used the variable *count* which already has a value assigned in the previouse code block.\n",
        "\n",
        "We should either use another variable e.g. nonvowel_count or we should initialize the variable *count* to zero to start a re-counting.\n"
      ]
    },
    {
      "cell_type": "code",
      "metadata": {
        "id": "6iRKyohcB-Qh",
        "colab_type": "code",
        "colab": {
          "base_uri": "https://localhost:8080/",
          "height": 34
        },
        "outputId": "9d5a53c2-1b18-40ef-c63f-e11a6152e649"
      },
      "source": [
        "count = 0 \n",
        "for ch in word:\n",
        "  if ch not in vowels:\n",
        "    count = count + 1\n",
        "\n",
        "print(\"The word \", word, \"has \", count, \" non-vowel letters.\")"
      ],
      "execution_count": 81,
      "outputs": [
        {
          "output_type": "stream",
          "text": [
            "The word  Pakistan has  5  non-vowel letters.\n"
          ],
          "name": "stdout"
        }
      ]
    },
    {
      "cell_type": "markdown",
      "metadata": {
        "id": "oCYhivC6e4qn",
        "colab_type": "text"
      },
      "source": [
        "# Lists and Sets"
      ]
    },
    {
      "cell_type": "markdown",
      "metadata": {
        "id": "-0-dF6SPe1ww",
        "colab_type": "text"
      },
      "source": [
        "The following code put the vowels of the input word into the list *vowels_in_word*."
      ]
    },
    {
      "cell_type": "code",
      "metadata": {
        "id": "Om8luGskBH_E",
        "colab_type": "code",
        "colab": {
          "base_uri": "https://localhost:8080/",
          "height": 34
        },
        "outputId": "34d322b1-11de-4d5e-8869-9f380f665fcf"
      },
      "source": [
        "vowels_in_word = []\n",
        "for ch in word:\n",
        "  if ch in vowels:\n",
        "    vowels_in_word.append(ch)\n",
        "\n",
        "print(\"The word \", word, \"has the following vowels \", vowels_in_word)"
      ],
      "execution_count": 82,
      "outputs": [
        {
          "output_type": "stream",
          "text": [
            "The word  Pakistan has the following vowels  ['a', 'i', 'a']\n"
          ],
          "name": "stdout"
        }
      ]
    },
    {
      "cell_type": "markdown",
      "metadata": {
        "id": "4lAUoix4f3uB",
        "colab_type": "text"
      },
      "source": [
        "If we do not want to repaeat the vowels in the list i.e. if we want list of unique vowels then we should use the data structure **set**.\n",
        "\n",
        "The following code blocks compare the usage and result of **set** and **list**."
      ]
    },
    {
      "cell_type": "code",
      "metadata": {
        "id": "OK0A-PsoCoOJ",
        "colab_type": "code",
        "colab": {
          "base_uri": "https://localhost:8080/",
          "height": 34
        },
        "outputId": "53f4a564-60fb-4388-dbe7-abb30444005e"
      },
      "source": [
        "set1 = set()\n",
        "set1.add(5)\n",
        "set1.add(2)\n",
        "set1.add(10)\n",
        "set1.add(5)\n",
        "set1.add(5)\n",
        "set1.add(9)\n",
        "\n",
        "print(set1)"
      ],
      "execution_count": 83,
      "outputs": [
        {
          "output_type": "stream",
          "text": [
            "{9, 2, 10, 5}\n"
          ],
          "name": "stdout"
        }
      ]
    },
    {
      "cell_type": "code",
      "metadata": {
        "id": "wwE0KhZ7Dd6u",
        "colab_type": "code",
        "colab": {
          "base_uri": "https://localhost:8080/",
          "height": 34
        },
        "outputId": "09167548-2675-4d98-c3de-7b8a13a0e7e6"
      },
      "source": [
        "list1 = []\n",
        "list1.append(5)\n",
        "list1.append(2)\n",
        "list1.append(10)\n",
        "list1.append(5)\n",
        "list1.append(5)\n",
        "list1.append(9)\n",
        "\n",
        "print(list1)"
      ],
      "execution_count": 84,
      "outputs": [
        {
          "output_type": "stream",
          "text": [
            "[5, 2, 10, 5, 5, 9]\n"
          ],
          "name": "stdout"
        }
      ]
    },
    {
      "cell_type": "markdown",
      "metadata": {
        "id": "1XXIOQE3hEkx",
        "colab_type": "text"
      },
      "source": [
        "Now, we make a set of unique vowels."
      ]
    },
    {
      "cell_type": "code",
      "metadata": {
        "id": "PPI45GsMCcBn",
        "colab_type": "code",
        "colab": {
          "base_uri": "https://localhost:8080/",
          "height": 34
        },
        "outputId": "b616fb57-d4d3-404d-aabd-1d04079cbd2d"
      },
      "source": [
        "unique_vowels = set()\n",
        "for ch in word:\n",
        "  if ch in vowels:\n",
        "    unique_vowels.add(ch)\n",
        "\n",
        "print(\"The word \", word, \"has the following vowels \", unique_vowels)"
      ],
      "execution_count": 85,
      "outputs": [
        {
          "output_type": "stream",
          "text": [
            "The word  Pakistan has the following vowels  {'a', 'i'}\n"
          ],
          "name": "stdout"
        }
      ]
    },
    {
      "cell_type": "markdown",
      "metadata": {
        "id": "wOIHxLNuhKlD",
        "colab_type": "text"
      },
      "source": [
        "# NLTK (Natural Language Toolkit)"
      ]
    },
    {
      "cell_type": "markdown",
      "metadata": {
        "id": "cQRKiTQYhYJc",
        "colab_type": "text"
      },
      "source": [
        "We import a library to use its objects, functions and other code in our program.\n",
        "\n",
        "We downloaded two packages for use in tokenization and part of speech tagging.\n",
        "\n"
      ]
    },
    {
      "cell_type": "code",
      "metadata": {
        "id": "wmcEwEhvMte9",
        "colab_type": "code",
        "colab": {
          "base_uri": "https://localhost:8080/",
          "height": 134
        },
        "outputId": "35a443ef-9bd9-45e8-c4e5-f20d97930d3a"
      },
      "source": [
        "import nltk\n",
        "nltk.download('punkt')\n",
        "nltk.download('averaged_perceptron_tagger')"
      ],
      "execution_count": 86,
      "outputs": [
        {
          "output_type": "stream",
          "text": [
            "[nltk_data] Downloading package punkt to /root/nltk_data...\n",
            "[nltk_data]   Package punkt is already up-to-date!\n",
            "[nltk_data] Downloading package averaged_perceptron_tagger to\n",
            "[nltk_data]     /root/nltk_data...\n",
            "[nltk_data]   Package averaged_perceptron_tagger is already up-to-\n",
            "[nltk_data]       date!\n"
          ],
          "name": "stdout"
        },
        {
          "output_type": "execute_result",
          "data": {
            "text/plain": [
              "True"
            ]
          },
          "metadata": {
            "tags": []
          },
          "execution_count": 86
        }
      ]
    },
    {
      "cell_type": "markdown",
      "metadata": {
        "id": "w2TaHKBbiNAU",
        "colab_type": "text"
      },
      "source": [
        "The following text will be processed by NLTK. You can change the text by adding more sentences to see the processing of larger text."
      ]
    },
    {
      "cell_type": "code",
      "metadata": {
        "id": "pw1td73YEXR3",
        "colab_type": "code",
        "colab": {}
      },
      "source": [
        "input_text = \"We are learning Python. They already know good programming.\""
      ],
      "execution_count": 0,
      "outputs": []
    },
    {
      "cell_type": "markdown",
      "metadata": {
        "id": "Ql2lzCbJiiuV",
        "colab_type": "text"
      },
      "source": [
        "The *input_text* is transformed into list of words."
      ]
    },
    {
      "cell_type": "code",
      "metadata": {
        "id": "ZfOIkBBzLoYO",
        "colab_type": "code",
        "colab": {
          "base_uri": "https://localhost:8080/",
          "height": 50
        },
        "outputId": "14854809-c955-4404-aca2-9c1b8c10c954"
      },
      "source": [
        "ptext = nltk.word_tokenize(input_text)\n",
        "print(input_text)\n",
        "print(ptext)\n"
      ],
      "execution_count": 88,
      "outputs": [
        {
          "output_type": "stream",
          "text": [
            "We are learning Python. They already know good programming.\n",
            "['We', 'are', 'learning', 'Python', '.', 'They', 'already', 'know', 'good', 'programming', '.']\n"
          ],
          "name": "stdout"
        }
      ]
    },
    {
      "cell_type": "markdown",
      "metadata": {
        "id": "azY3mjJqi33J",
        "colab_type": "text"
      },
      "source": [
        "After applying part of speech tagging, the list *tag_text* has *tuples* of (word, part_of_speech). "
      ]
    },
    {
      "cell_type": "code",
      "metadata": {
        "id": "1pSqJrcFMVkh",
        "colab_type": "code",
        "colab": {
          "base_uri": "https://localhost:8080/",
          "height": 54
        },
        "outputId": "6cc05749-0dc0-49ea-e34a-b1b2fbb9e46b"
      },
      "source": [
        "tag_text = nltk.pos_tag(ptext)\n",
        "print(tag_text)\n"
      ],
      "execution_count": 89,
      "outputs": [
        {
          "output_type": "stream",
          "text": [
            "[('We', 'PRP'), ('are', 'VBP'), ('learning', 'VBG'), ('Python', 'NNP'), ('.', '.'), ('They', 'PRP'), ('already', 'RB'), ('know', 'VBP'), ('good', 'JJ'), ('programming', 'NN'), ('.', '.')]\n"
          ],
          "name": "stdout"
        }
      ]
    },
    {
      "cell_type": "markdown",
      "metadata": {
        "id": "fYM88k_sjhC6",
        "colab_type": "text"
      },
      "source": [
        "The elements of the list *tag_text* are printed using for-statement."
      ]
    },
    {
      "cell_type": "code",
      "metadata": {
        "id": "nmYM4Q7LLpCa",
        "colab_type": "code",
        "colab": {
          "base_uri": "https://localhost:8080/",
          "height": 202
        },
        "outputId": "b07a0f31-d543-4ba7-b43b-673776ac352a"
      },
      "source": [
        "for wordtag in tag_text:\n",
        "  print(wordtag)"
      ],
      "execution_count": 90,
      "outputs": [
        {
          "output_type": "stream",
          "text": [
            "('We', 'PRP')\n",
            "('are', 'VBP')\n",
            "('learning', 'VBG')\n",
            "('Python', 'NNP')\n",
            "('.', '.')\n",
            "('They', 'PRP')\n",
            "('already', 'RB')\n",
            "('know', 'VBP')\n",
            "('good', 'JJ')\n",
            "('programming', 'NN')\n",
            "('.', '.')\n"
          ],
          "name": "stdout"
        }
      ]
    },
    {
      "cell_type": "markdown",
      "metadata": {
        "id": "gqA3Tm0_j1vS",
        "colab_type": "text"
      },
      "source": [
        "We can use index for each element of the *tuple* wordtag."
      ]
    },
    {
      "cell_type": "code",
      "metadata": {
        "id": "fuCJ41QAQXnx",
        "colab_type": "code",
        "colab": {
          "base_uri": "https://localhost:8080/",
          "height": 202
        },
        "outputId": "1a05100d-10bf-4a3b-e429-b0c524aeac11"
      },
      "source": [
        "for wordtag in tag_text:\n",
        "    print(\"Part of Speech of\", wordtag[0], \"is\", wordtag[1])\n"
      ],
      "execution_count": 91,
      "outputs": [
        {
          "output_type": "stream",
          "text": [
            "Part of Speech of We is PRP\n",
            "Part of Speech of are is VBP\n",
            "Part of Speech of learning is VBG\n",
            "Part of Speech of Python is NNP\n",
            "Part of Speech of . is .\n",
            "Part of Speech of They is PRP\n",
            "Part of Speech of already is RB\n",
            "Part of Speech of know is VBP\n",
            "Part of Speech of good is JJ\n",
            "Part of Speech of programming is NN\n",
            "Part of Speech of . is .\n"
          ],
          "name": "stdout"
        }
      ]
    },
    {
      "cell_type": "markdown",
      "metadata": {
        "id": "YxsgmNX_kCGa",
        "colab_type": "text"
      },
      "source": [
        "# Exercise\n",
        "The solution will be shared on Tuesday, 26th May, 2020."
      ]
    },
    {
      "cell_type": "markdown",
      "metadata": {
        "id": "OMT_p65YkWeI",
        "colab_type": "text"
      },
      "source": [
        "Regularly visit these sites to study or practice.\n",
        "\n",
        "https://www.nltk.org/book/\n",
        "\n",
        "https://www.codemonkey.com\n"
      ]
    },
    {
      "cell_type": "markdown",
      "metadata": {
        "id": "-2Q-bqFEST6R",
        "colab_type": "text"
      },
      "source": [
        "**Exercise 1**: Make a list of all personal pronouns in the input text.\n",
        "\n",
        "Hint: The PoS tag of personal pronoun is PRP. You can use the following statements in your code.\n",
        "\n",
        "  if wordtag[1] == 'PRP':\n",
        "    \n",
        "    list_pronoun.append(wordtag[0])\n",
        "\n",
        "\n",
        "\n",
        "\n"
      ]
    },
    {
      "cell_type": "code",
      "metadata": {
        "id": "4GXvvCFOka_Z",
        "colab_type": "code",
        "colab": {}
      },
      "source": [
        ""
      ],
      "execution_count": 0,
      "outputs": []
    },
    {
      "cell_type": "markdown",
      "metadata": {
        "id": "g9CqaNcHS_lm",
        "colab_type": "text"
      },
      "source": [
        "**Exercise 2**: Make a list of all proper nouns in the input text.\n",
        "\n",
        "Hint: The PoS tag of proper noun is NNP. \n"
      ]
    },
    {
      "cell_type": "code",
      "metadata": {
        "id": "srWaZZhPkb3J",
        "colab_type": "code",
        "colab": {}
      },
      "source": [
        ""
      ],
      "execution_count": 0,
      "outputs": []
    },
    {
      "cell_type": "markdown",
      "metadata": {
        "id": "orcWMm-nUr5I",
        "colab_type": "text"
      },
      "source": [
        "**Exercise 3**: Make the following lists from the input text. \n",
        "\n",
        "(a) personal pronouns in the input text\n",
        "\n",
        "(b) proper nouns in the input text\n",
        "\n",
        "Hint: Make two lists one for each part of speech. In the **for** loop, append the word into approriate list. (The appropriate list will be selected by **if** and **elif** statements.)"
      ]
    },
    {
      "cell_type": "code",
      "metadata": {
        "id": "GoGZUe9hkeVO",
        "colab_type": "code",
        "colab": {}
      },
      "source": [
        ""
      ],
      "execution_count": 0,
      "outputs": []
    }
  ]
}