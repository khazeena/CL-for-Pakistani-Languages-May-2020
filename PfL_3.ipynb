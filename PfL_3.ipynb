{
  "nbformat": 4,
  "nbformat_minor": 0,
  "metadata": {
    "colab": {
      "name": "PfL 3.ipynb",
      "provenance": []
    },
    "kernelspec": {
      "name": "python3",
      "display_name": "Python 3"
    }
  },
  "cells": [
    {
      "cell_type": "markdown",
      "metadata": {
        "id": "_UsM22_bBKGe",
        "colab_type": "text"
      },
      "source": [
        "# Programming for Linguists - 3\n",
        "By Tafseer Ahmed\n",
        "\n"
      ]
    },
    {
      "cell_type": "markdown",
      "metadata": {
        "id": "FXqlu3lNBT1Z",
        "colab_type": "text"
      },
      "source": [
        "Accessing Data from google drive"
      ]
    },
    {
      "cell_type": "code",
      "metadata": {
        "id": "nyjAVp2bjCKm",
        "colab_type": "code",
        "colab": {
          "base_uri": "https://localhost:8080/",
          "height": 121
        },
        "outputId": "2e297274-8522-4a0f-b8f2-7146433801e5"
      },
      "source": [
        "from google.colab import drive\n",
        "\n",
        "# This will prompt for authorization.\n",
        "drive.mount('/content/drive')"
      ],
      "execution_count": 1,
      "outputs": [
        {
          "output_type": "stream",
          "text": [
            "Go to this URL in a browser: https://accounts.google.com/o/oauth2/auth?client_id=947318989803-6bn6qk8qdgf4n4g3pfee6491hc0brc4i.apps.googleusercontent.com&redirect_uri=urn%3aietf%3awg%3aoauth%3a2.0%3aoob&response_type=code&scope=email%20https%3a%2f%2fwww.googleapis.com%2fauth%2fdocs.test%20https%3a%2f%2fwww.googleapis.com%2fauth%2fdrive%20https%3a%2f%2fwww.googleapis.com%2fauth%2fdrive.photos.readonly%20https%3a%2f%2fwww.googleapis.com%2fauth%2fpeopleapi.readonly\n",
            "\n",
            "Enter your authorization code:\n",
            "··········\n",
            "Mounted at /content/drive\n"
          ],
          "name": "stdout"
        }
      ]
    },
    {
      "cell_type": "markdown",
      "metadata": {
        "id": "aCsQsIYfBgP7",
        "colab_type": "text"
      },
      "source": [
        "\n",
        "\n",
        "Accessing google drive\n",
        "\n"
      ]
    },
    {
      "cell_type": "code",
      "metadata": {
        "id": "k0HpI48AsQbY",
        "colab_type": "code",
        "colab": {
          "base_uri": "https://localhost:8080/",
          "height": 34
        },
        "outputId": "2ee7acc9-e16b-4f09-d1cc-fc15a4a7dcc6"
      },
      "source": [
        "!ls '/content/drive/My Drive/khazeena/data/'"
      ],
      "execution_count": 11,
      "outputs": [
        {
          "output_type": "stream",
          "text": [
            "news.txt  story.txt\n"
          ],
          "name": "stdout"
        }
      ]
    },
    {
      "cell_type": "markdown",
      "metadata": {
        "id": "jFJ3NPYYBrfY",
        "colab_type": "text"
      },
      "source": [
        "Opening the file for reading"
      ]
    },
    {
      "cell_type": "code",
      "metadata": {
        "id": "yVex7TTojEEI",
        "colab_type": "code",
        "colab": {
          "base_uri": "https://localhost:8080/",
          "height": 272
        },
        "outputId": "45ba32cd-1049-4130-f6a5-a26a53e69ad8"
      },
      "source": [
        "f_story = open(\"/content/drive/My Drive/khazeena/data/story.txt\", \"r\")\n",
        "story_text = f_story.read()\n",
        "print(story_text)\n"
      ],
      "execution_count": 14,
      "outputs": [
        {
          "output_type": "stream",
          "text": [
            "The Clever Fox\n",
            "Once there lived a clever fox in a forest. One day he saw a crow on the branch of a tree. She had a piece of meat in her beak.\n",
            "\n",
            "The fox thought, the crow has a piece of meat in her beak. I shall get it by a trick and eat it.\"\n",
            "\n",
            "Then the fox looked up at the crow and said, \"Good morning, Mrs. crow, you are looking very bright. Your feathers are shining too. You are the queen of birds. Please sing a song in your sweet voice,\"\n",
            "\n",
            "The crow heard the praise of the fox and became proud and happy. She thought, \"The fox has spoken the truth. I am really beautiful. I shall sing him a song and show him my sweet voice too.\"\n",
            "\n",
            "The crow lifted her head up and opened her mouth and cawed. The piece of meat fell down to the ground.\n",
            "\n",
            "At once the fox ran to it and ate it up. Then the fox said to the crow, \"Stop your song. I wanted that piece of meat in your beak. I have eaten it now. Thank you. I shall give you a piece of advice. Remember it.\n",
            "\n",
            "\"Don't trust liars.\"\n"
          ],
          "name": "stdout"
        }
      ]
    },
    {
      "cell_type": "code",
      "metadata": {
        "id": "uF0ogM6As9_H",
        "colab_type": "code",
        "colab": {
          "base_uri": "https://localhost:8080/",
          "height": 423
        },
        "outputId": "789adcad-fbf6-41c0-b334-bc3b30296581"
      },
      "source": [
        "f_news = open(\"/content/drive/My Drive/khazeena/data/news.txt\", \"r\")\n",
        "news_text = f_news.read()\n",
        "print(news_text)"
      ],
      "execution_count": 17,
      "outputs": [
        {
          "output_type": "stream",
          "text": [
            "Woman doctor among five medical practitioners who lost their lives in same period\n",
            "• PM’s aide announces new guidelines for funeral, burial\n",
            "• Imran calls NCC meeting to decide about lockdown\n",
            "\n",
            "ISLAMABAD: As Prime Minister Imran Khan calls the National Coordination Committee (NCC) meeting on Monday to decide about further easing lockdown, Pakistan witnessed the highest ever spike in number of coronavirus cases and deaths in a single day, with the medical fraternity losing five more lives during the past 24 hours.\n",
            "\n",
            "As many as 81 deaths were reported on Friday, as the countrywide death toll jumped from 1,283 to 1,364. Among them, five were medical practitioners including two who died in Balochistan, one in Khyber Pakhtunkhwa and another two in Punjab, while the number of Covid-19 patients surged from 62,689 to 65,216 in the last one day.\n",
            "\n",
            "However, Special Assistant to Prime Minister Zafar Mirza told the media that the situation was under control, as the government still had adequate facilities including ventilators and beds to deal with patients’ influx.\n",
            "\n",
            "While addressing a press conference, the PM’s aide said over 64,000 confirmed cases had been reported so far and over 2,500 new cases during the last 24 hours. Although new positive cases were increasing and there were threats of fast spread of the disease, the government had adequate facilities including beds and ventilators to deal with the emerging situation, he said.\n",
            "\n",
            "He also shared with the media the government guidelines for safe burial of Covid-19 patients and urged citizens to continue to implement the SOPs.\n",
            "\n",
            "About hospital beds and ventilators, Dr Mirza said the government had developed a health information system (HIS) to keep an update on the status of available facilities at public-sector hospitals for Covid-19 patients. “Due to the system, the government would be able to know the occupancy of beds and ventilators, and their availability at the intensive care units and allocated wards of hospitals,” he added.\n",
            "\n",
            "The number of patients on ventilators were on the rise but the ratio of ventilator usage is 20 per cent, which indicated that still enough number of ventilators and beds were available at hospitals, he claimed.\n",
            "\n",
            "During the past 24 hours, the five medical practitioners who died while fighting coronavirus were Dr Zubair Ahmed Khan and Muhammad Akbar Mengal from Balochistan, Dr Khanzada Shinwari from Khyber Pakhtunkhwa and Dr Sana Fatima and medical student Salman Tahir from Punjab.\n",
            "\n",
            "Dr Zubair, who was official in charge of trauma centre in Bolan Medical Collage Hospital Complex, died late Thursday night, and Dr Mengal, who served at Fatima Jinnah Chest Hospital died on Friday.\n",
            "\n",
            "Young medic Dr Fatima and medical student Salman died at private hospitals in Lahore. Dr Shinwari, who died on Thursday at Khyber Teaching Hospital, Peshawar, originally hailed from Hangu.\n"
          ],
          "name": "stdout"
        }
      ]
    },
    {
      "cell_type": "markdown",
      "metadata": {
        "id": "E5abSBR9CBjC",
        "colab_type": "text"
      },
      "source": [
        "\n",
        "importing NLTK to use its objects, functions and other code in our program.\n",
        "\n",
        "downloading two packages for use in tokenization and part of speech tagging."
      ]
    },
    {
      "cell_type": "code",
      "metadata": {
        "id": "OZVxJ8SFuPu0",
        "colab_type": "code",
        "colab": {
          "base_uri": "https://localhost:8080/",
          "height": 118
        },
        "outputId": "17ecfe06-0318-44ca-e29e-427c8b76edee"
      },
      "source": [
        "import nltk\n",
        "nltk.download('punkt')\n",
        "nltk.download('averaged_perceptron_tagger')"
      ],
      "execution_count": 18,
      "outputs": [
        {
          "output_type": "stream",
          "text": [
            "[nltk_data] Downloading package punkt to /root/nltk_data...\n",
            "[nltk_data]   Unzipping tokenizers/punkt.zip.\n",
            "[nltk_data] Downloading package averaged_perceptron_tagger to\n",
            "[nltk_data]     /root/nltk_data...\n",
            "[nltk_data]   Unzipping taggers/averaged_perceptron_tagger.zip.\n"
          ],
          "name": "stdout"
        },
        {
          "output_type": "execute_result",
          "data": {
            "text/plain": [
              "True"
            ]
          },
          "metadata": {
            "tags": []
          },
          "execution_count": 18
        }
      ]
    },
    {
      "cell_type": "markdown",
      "metadata": {
        "id": "NQfz59r2CO0E",
        "colab_type": "text"
      },
      "source": [
        "Tokenizing the text as list of words/tokens\n",
        "\n",
        "printing first 10 words/tokens"
      ]
    },
    {
      "cell_type": "code",
      "metadata": {
        "id": "dIeQLueyu6f4",
        "colab_type": "code",
        "colab": {
          "base_uri": "https://localhost:8080/",
          "height": 70
        },
        "outputId": "636169fc-c1b2-4ea5-ce45-974c92da5545"
      },
      "source": [
        "story_ptext = nltk.word_tokenize(story_text)\n",
        "print(story_ptext[0:10])\n",
        "\n",
        "story_tagtext = nltk.pos_tag(story_ptext)\n",
        "print(story_tagtext[0:10])\n"
      ],
      "execution_count": 19,
      "outputs": [
        {
          "output_type": "stream",
          "text": [
            "['The', 'Clever', 'Fox', 'Once', 'there', 'lived', 'a', 'clever', 'fox', 'in']\n",
            "[('The', 'DT'), ('Clever', 'NNP'), ('Fox', 'NNP'), ('Once', 'RB'), ('there', 'RB'), ('lived', 'VBD'), ('a', 'DT'), ('clever', 'NN'), ('fox', 'NN'), ('in', 'IN')]\n"
          ],
          "name": "stdout"
        }
      ]
    },
    {
      "cell_type": "markdown",
      "metadata": {
        "id": "g4U7kqO0CeBy",
        "colab_type": "text"
      },
      "source": [
        "The same is repeated for the news_text. \n",
        "\n",
        "For simplicity, we repeated the code for both the files. A better approach is creating a function that is described later."
      ]
    },
    {
      "cell_type": "code",
      "metadata": {
        "id": "8_Hz_HH6vq-h",
        "colab_type": "code",
        "colab": {
          "base_uri": "https://localhost:8080/",
          "height": 70
        },
        "outputId": "f54a7222-44c2-44b8-ed81-cc3e7e55d5af"
      },
      "source": [
        "news_ptext = nltk.word_tokenize(news_text)\n",
        "print(news_ptext[0:15])\n",
        "\n",
        "news_tagtext = nltk.pos_tag(news_ptext)\n",
        "print(news_tagtext[0:15])"
      ],
      "execution_count": 23,
      "outputs": [
        {
          "output_type": "stream",
          "text": [
            "['Woman', 'doctor', 'among', 'five', 'medical', 'practitioners', 'who', 'lost', 'their', 'lives', 'in', 'same', 'period', '•', 'PM']\n",
            "[('Woman', 'NNP'), ('doctor', 'NN'), ('among', 'IN'), ('five', 'CD'), ('medical', 'JJ'), ('practitioners', 'NNS'), ('who', 'WP'), ('lost', 'VBD'), ('their', 'PRP$'), ('lives', 'NNS'), ('in', 'IN'), ('same', 'JJ'), ('period', 'NN'), ('•', 'NNP'), ('PM', 'NNP')]\n"
          ],
          "name": "stdout"
        }
      ]
    },
    {
      "cell_type": "markdown",
      "metadata": {
        "id": "hLMFporiCzIk",
        "colab_type": "text"
      },
      "source": [
        "Making person-wise  lists of pronouns "
      ]
    },
    {
      "cell_type": "code",
      "metadata": {
        "id": "pzhqjb-1xEyZ",
        "colab_type": "code",
        "colab": {}
      },
      "source": [
        "P12 = ['i','you','we','my','your','our','me','us']\n",
        "P3= ['he','she','they','his','her','their','him','her','them']"
      ],
      "execution_count": 0,
      "outputs": []
    },
    {
      "cell_type": "markdown",
      "metadata": {
        "id": "xi5FcarpDHTX",
        "colab_type": "text"
      },
      "source": [
        "The code for counting the pronouns"
      ]
    },
    {
      "cell_type": "code",
      "metadata": {
        "id": "_P-U2wVQwdeZ",
        "colab_type": "code",
        "colab": {
          "base_uri": "https://localhost:8080/",
          "height": 34
        },
        "outputId": "d2f45a1d-ad00-476e-aec1-58fd52641e92"
      },
      "source": [
        "count_P12_story = 0\n",
        "count_P3_story = 0\n",
        "\n",
        "for w in story_tagtext:\n",
        "  if w[1] == 'PRP' or w[1] == 'PRP$':\n",
        "    # .lower() is used to transform the string into lower case i.e. 'We' becomes 'we' and 'YOU' becomes 'you'\n",
        "    if w[0].lower() in P12:\n",
        "      count_P12_story = count_P12_story + 1\n",
        "    elif w[0].lower() in P3:\n",
        "      count_P3_story = count_P3_story + 1\n",
        "\n",
        "print(len(story_ptext), count_P12_story, count_P3_story)\n",
        "\n",
        "\n"
      ],
      "execution_count": 40,
      "outputs": [
        {
          "output_type": "stream",
          "text": [
            "241 15 9\n"
          ],
          "name": "stdout"
        }
      ]
    },
    {
      "cell_type": "markdown",
      "metadata": {
        "id": "Ppe38AbfDhEo",
        "colab_type": "text"
      },
      "source": [
        "Similar code for counting pronouns in the news"
      ]
    },
    {
      "cell_type": "code",
      "metadata": {
        "id": "pQDOd0XHzWfx",
        "colab_type": "code",
        "colab": {
          "base_uri": "https://localhost:8080/",
          "height": 34
        },
        "outputId": "28b96578-51d3-4c03-ba97-3443ed991d4e"
      },
      "source": [
        "count_P12_news = 0\n",
        "count_P3_news = 0\n",
        "\n",
        "for w in news_tagtext:\n",
        "  if w[1] == 'PRP' or w[1] == 'PRP$':\n",
        "    if w[0].lower() in P12:\n",
        "      count_P12_news = count_P12_news + 1\n",
        "    elif w[0].lower() in P3:\n",
        "      count_P3_news = count_P3_news + 1\n",
        "\n",
        "print(len(news_ptext), count_P12_news, count_P3_news)"
      ],
      "execution_count": 41,
      "outputs": [
        {
          "output_type": "stream",
          "text": [
            "514 0 7\n"
          ],
          "name": "stdout"
        }
      ]
    },
    {
      "cell_type": "markdown",
      "metadata": {
        "id": "H1HJH0MNEBf9",
        "colab_type": "text"
      },
      "source": [
        "Calculating perecentage of usage of pronouns in the samples of two different Genre.\n",
        "\n",
        "What do you infer?"
      ]
    },
    {
      "cell_type": "code",
      "metadata": {
        "id": "4lQKGkwFzr91",
        "colab_type": "code",
        "colab": {
          "base_uri": "https://localhost:8080/",
          "height": 70
        },
        "outputId": "34ef0b81-0f84-4e11-ee25-a14cbca1c579"
      },
      "source": [
        "print (\"For the story, 1st and 2nd person pronouns =\", count_P12_story/len(story_ptext)*100, \"and 3rd person pronouns = \", count_P3_story/len(story_ptext)*100)\n",
        "\n",
        "print (\"For the news, 1st and 2nd person pronouns =\", count_P12_news/len(news_ptext)*100, \"and 3rd person pronouns = \", count_P3_news/len(news_ptext)*100)"
      ],
      "execution_count": 42,
      "outputs": [
        {
          "output_type": "stream",
          "text": [
            "For the story, 1st and 2nd person pronouns = 6.224066390041494 and 3rd person pronouns =  3.7344398340248963\n",
            "For the news, 1st and 2nd person pronouns = 0.0 and 3rd person pronouns =  1.3618677042801557\n"
          ],
          "name": "stdout"
        }
      ]
    },
    {
      "cell_type": "markdown",
      "metadata": {
        "id": "SS1ZIUBM1sHz",
        "colab_type": "text"
      },
      "source": [
        "**Exercise 1:** Select text from eassays of two different students, and compare the usage of articles 'a'/'an' vs 'the'."
      ]
    },
    {
      "cell_type": "markdown",
      "metadata": {
        "id": "JHcjoqKz2CDK",
        "colab_type": "text"
      },
      "source": [
        "# Functions"
      ]
    },
    {
      "cell_type": "markdown",
      "metadata": {
        "id": "b12r4XqbET1F",
        "colab_type": "text"
      },
      "source": [
        ""
      ]
    },
    {
      "cell_type": "code",
      "metadata": {
        "id": "VocCin4w1q_a",
        "colab_type": "code",
        "colab": {}
      },
      "source": [
        "def add(num1, num2):\n",
        "  sum = num1+num2\n",
        "  return(sum)"
      ],
      "execution_count": 0,
      "outputs": []
    },
    {
      "cell_type": "code",
      "metadata": {
        "id": "JpgtyMc_3iJT",
        "colab_type": "code",
        "colab": {
          "base_uri": "https://localhost:8080/",
          "height": 50
        },
        "outputId": "998899f0-0d6b-4695-d579-0418f9cb7a79"
      },
      "source": [
        "print(add(2,3))\n",
        "print(add(5,10))"
      ],
      "execution_count": 44,
      "outputs": [
        {
          "output_type": "stream",
          "text": [
            "5\n",
            "15\n"
          ],
          "name": "stdout"
        }
      ]
    },
    {
      "cell_type": "code",
      "metadata": {
        "id": "TlLmDa6Q4ZWN",
        "colab_type": "code",
        "colab": {
          "base_uri": "https://localhost:8080/",
          "height": 50
        },
        "outputId": "090dd6b9-45d7-434f-a47f-889eadc95907"
      },
      "source": [
        "#Exercise 2:\n",
        "#write a function that calculates the sum of a list of numbers.\n",
        "\n",
        "def add_list(list_num):\n",
        "  sum = 0\n",
        "  #add code here\n",
        "\n",
        "  return(sum)\n",
        "\n",
        "print(add_list([1,2,3,4]))\n",
        "print(add_list([2,3,5,7,11]))\n",
        "#The current results are 0 and 0. You have to add code in such a way that it returns 10 and 28 for the above."
      ],
      "execution_count": 49,
      "outputs": [
        {
          "output_type": "stream",
          "text": [
            "0\n",
            "0\n"
          ],
          "name": "stdout"
        }
      ]
    },
    {
      "cell_type": "markdown",
      "metadata": {
        "id": "0vXet8YSBDFR",
        "colab_type": "text"
      },
      "source": [
        "\n",
        "writing a fuunction that accepts a string and return count of pronouns in it.\n",
        "\n"
      ]
    },
    {
      "cell_type": "code",
      "metadata": {
        "id": "abnxyDje3qQn",
        "colab_type": "code",
        "colab": {}
      },
      "source": [
        "def count_pronouns(text):\n",
        "  P12 = ['I','you','we','my','your','our','me','us']\n",
        "  P3= ['he','she','they','his','her','their','him','her','them']\n",
        "  \n",
        "  ptext = nltk.word_tokenize(text)\n",
        "  tagtext = nltk.pos_tag(ptext)\n",
        "\n",
        "  count_P12 = 0\n",
        "  count_P3 = 0\n",
        "\n",
        "  for w in tagtext:\n",
        "    if w[1] == 'PRP' or w[1] == 'PRP$':\n",
        "      if w[0].lower() in P12:\n",
        "        count_P12 = count_P12 + 1\n",
        "      elif w[0].lower() in P3:\n",
        "        count_P3 = count_P3 + 1 \n",
        "  \n",
        "  return(count_P12, count_P3)\n"
      ],
      "execution_count": 0,
      "outputs": []
    },
    {
      "cell_type": "markdown",
      "metadata": {
        "id": "-M0_NDUjEu6f",
        "colab_type": "text"
      },
      "source": [
        "Calling the function with different texts (strings)."
      ]
    },
    {
      "cell_type": "code",
      "metadata": {
        "id": "x284H1bn5Da5",
        "colab_type": "code",
        "colab": {
          "base_uri": "https://localhost:8080/",
          "height": 67
        },
        "outputId": "a535fd54-0871-4c42-cb3d-c5fc10588acf"
      },
      "source": [
        "print(count_pronouns(story_text))\n",
        "print(count_pronouns(news_text))\n",
        "print(count_pronouns(\"We are learning Python. They already know good programming.\"))\n"
      ],
      "execution_count": 46,
      "outputs": [
        {
          "output_type": "stream",
          "text": [
            "(9, 9)\n",
            "(0, 7)\n",
            "(1, 1)\n"
          ],
          "name": "stdout"
        }
      ]
    },
    {
      "cell_type": "markdown",
      "metadata": {
        "id": "L4K7mkRq4tqC",
        "colab_type": "text"
      },
      "source": [
        ""
      ]
    }
  ]
}