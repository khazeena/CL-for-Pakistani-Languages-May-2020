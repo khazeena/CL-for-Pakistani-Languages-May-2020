{
  "nbformat": 4,
  "nbformat_minor": 0,
  "metadata": {
    "colab": {
      "name": "python-intro.ipynb",
      "provenance": [],
      "collapsed_sections": []
    },
    "kernelspec": {
      "name": "python3",
      "display_name": "Python 3"
    }
  },
  "cells": [
    {
      "cell_type": "markdown",
      "metadata": {
        "id": "s9kLD96vvNsj",
        "colab_type": "text"
      },
      "source": [
        "In today's world, some knowledge of programming is required for every person related to academics.\n",
        "There are many tools available to teach (and provide praactice) programming. \n",
        "\n",
        "You can use following resources to learn the fundamentals of programming.\n",
        "\n",
        "https://hourofcode.com/pk/en/learn\n",
        "\n",
        "https://www.codemonkey.com\n",
        "\n",
        "https://www.tynker.com/\n",
        "\n"
      ]
    },
    {
      "cell_type": "markdown",
      "metadata": {
        "id": "aRKQwfX532nG",
        "colab_type": "text"
      },
      "source": [
        "To program in Python, you need a gmail account. Then, visit https://colab.research.google.com/\n",
        "\n",
        "You can make new notebook, or upload any notebook on it.\n",
        "\n",
        "The notebook for this tutorial is present at:\n"
      ]
    },
    {
      "cell_type": "markdown",
      "metadata": {
        "id": "p__wVSr6SzzB",
        "colab_type": "text"
      },
      "source": [
        "# Programming Fundamentals"
      ]
    },
    {
      "cell_type": "markdown",
      "metadata": {
        "id": "qJw_2tLt0lC-",
        "colab_type": "text"
      },
      "source": [
        "**Variable**s are used to store values. In the following code, *num* is a variable that stores the number 10.\n",
        "\n",
        "The second line has a **function**. A function gets arguments and then perform some action and/or return some valaue. In the second line, the function *print* gets the variable *num* as argument and print its value."
      ]
    },
    {
      "cell_type": "code",
      "metadata": {
        "id": "B8yMwvDR8NRf",
        "colab_type": "code",
        "outputId": "ab88d217-ab0d-4176-8d3c-b9f120f40206",
        "colab": {
          "base_uri": "https://localhost:8080/",
          "height": 34
        }
      },
      "source": [
        "num = 10\n",
        "print(num)"
      ],
      "execution_count": 1,
      "outputs": [
        {
          "output_type": "stream",
          "text": [
            "10\n"
          ],
          "name": "stdout"
        }
      ]
    },
    {
      "cell_type": "markdown",
      "metadata": {
        "id": "510nvyd41c1D",
        "colab_type": "text"
      },
      "source": [
        "The following is another example. Now the variable *num* gets the value 5. The function *print* prints its current value."
      ]
    },
    {
      "cell_type": "code",
      "metadata": {
        "id": "G5DGjZFh8NVZ",
        "colab_type": "code",
        "outputId": "e21cf187-d71e-4399-815d-5285b09e7db5",
        "colab": {
          "base_uri": "https://localhost:8080/",
          "height": 34
        }
      },
      "source": [
        "num = 5\n",
        "print(num)"
      ],
      "execution_count": 2,
      "outputs": [
        {
          "output_type": "stream",
          "text": [
            "5\n"
          ],
          "name": "stdout"
        }
      ]
    },
    {
      "cell_type": "markdown",
      "metadata": {
        "id": "FJBmMq_F3VeP",
        "colab_type": "text"
      },
      "source": [
        "Now we use two variables *num1* and *num2*. The function *print* can have multiple arguments. It prints their values one by one from left to right."
      ]
    },
    {
      "cell_type": "code",
      "metadata": {
        "id": "w8RBpF_K8NZm",
        "colab_type": "code",
        "outputId": "f68046f9-1be4-490f-83d8-627a501e0c84",
        "colab": {
          "base_uri": "https://localhost:8080/",
          "height": 34
        }
      },
      "source": [
        "num1 = 10\n",
        "num2 = 5\n",
        "print(num1, num2)"
      ],
      "execution_count": 3,
      "outputs": [
        {
          "output_type": "stream",
          "text": [
            "10 5\n"
          ],
          "name": "stdout"
        }
      ]
    },
    {
      "cell_type": "markdown",
      "metadata": {
        "id": "PERYCW833mT7",
        "colab_type": "text"
      },
      "source": [
        "We can apply **operators** on the variables. The result of the operations are printed by the *print* function."
      ]
    },
    {
      "cell_type": "code",
      "metadata": {
        "id": "kNqK-4n88Ng2",
        "colab_type": "code",
        "outputId": "4e2c1ec1-f630-4455-dbf0-3f025779633f",
        "colab": {
          "base_uri": "https://localhost:8080/",
          "height": 67
        }
      },
      "source": [
        "print(num1+num2)\n",
        "print(num1-num2)\n",
        "print(num1*num2)"
      ],
      "execution_count": 4,
      "outputs": [
        {
          "output_type": "stream",
          "text": [
            "15\n",
            "5\n",
            "50\n"
          ],
          "name": "stdout"
        }
      ]
    },
    {
      "cell_type": "markdown",
      "metadata": {
        "id": "UN-3rIzm4FgJ",
        "colab_type": "text"
      },
      "source": [
        "Now we have examples of printing the strings too using the function *print*. A **string** is a sequence of characters (that includes letters, digits, punctuations and other charcaters.)\n",
        "The first line prints a string. (It is a tradition to print it as your first line of code.)\n",
        "The last three lines are modification of the code written above. In these lines, we explain what is the number represents."
      ]
    },
    {
      "cell_type": "code",
      "metadata": {
        "id": "SIkOhFg286o2",
        "colab_type": "code",
        "outputId": "66811edf-8983-4984-b2c9-3941bb2aeadc",
        "colab": {
          "base_uri": "https://localhost:8080/",
          "height": 101
        }
      },
      "source": [
        "print(\"Hello World!\")\n",
        "print(\"The numbers are \",num1, num2)\n",
        "print(\"Their sum is \",num1+num2)\n",
        "print(\"Their difference is \", num1-num2)\n",
        "print(\"Their product is \", num1*num2)"
      ],
      "execution_count": 5,
      "outputs": [
        {
          "output_type": "stream",
          "text": [
            "Hello World!\n",
            "The numbers are  10 5\n",
            "Their sum is  15\n",
            "Their difference is  5\n",
            "Their product is  50\n"
          ],
          "name": "stdout"
        }
      ]
    },
    {
      "cell_type": "markdown",
      "metadata": {
        "id": "ny2O3f9I5oQa",
        "colab_type": "text"
      },
      "source": [
        "The following code has a **list**. A list is a data structure that has values placed in order.\n",
        "The following list has only three values, but it can have any number of values. \n",
        "\n",
        "We can refer to any value of the list by using its **index**. The index is used in last two lines. However, there is a problem in the last two lines of code."
      ]
    },
    {
      "cell_type": "code",
      "metadata": {
        "id": "FhxUhamM6jgG",
        "colab_type": "code",
        "outputId": "297d71d9-0f60-4fc1-d953-0c847a366415",
        "colab": {
          "base_uri": "https://localhost:8080/",
          "height": 67
        }
      },
      "source": [
        "numList = [2,5,10]\n",
        "print(numList)\n",
        "print(\"first number:\", numList[1])\n",
        "print(\"second number:\", numList[2])"
      ],
      "execution_count": 6,
      "outputs": [
        {
          "output_type": "stream",
          "text": [
            "[2, 5, 10]\n",
            "first number: 5\n",
            "second number: 10\n"
          ],
          "name": "stdout"
        }
      ]
    },
    {
      "cell_type": "markdown",
      "metadata": {
        "id": "n4SfXriG7Oww",
        "colab_type": "text"
      },
      "source": [
        "In most of the programming languages, the index starts from 0. So, the first element/value is at 0, the second element is at index and so-on."
      ]
    },
    {
      "cell_type": "code",
      "metadata": {
        "id": "UHf60VlOAqRJ",
        "colab_type": "code",
        "outputId": "191afb9b-9ff0-4131-df2f-29eb128a050e",
        "colab": {
          "base_uri": "https://localhost:8080/",
          "height": 84
        }
      },
      "source": [
        "print(\"The list is \", numList)\n",
        "print(\"first number:\", numList[0])\n",
        "print(\"second number:\", numList[1])\n",
        "print(\"third number:\", numList[2])"
      ],
      "execution_count": 7,
      "outputs": [
        {
          "output_type": "stream",
          "text": [
            "The list is  [2, 5, 10]\n",
            "first number: 2\n",
            "second number: 5\n",
            "third number: 10\n"
          ],
          "name": "stdout"
        }
      ]
    },
    {
      "cell_type": "markdown",
      "metadata": {
        "id": "W_MP2HaD7uu3",
        "colab_type": "text"
      },
      "source": [
        "In the following code, we calculate sum of the three elements of the list. \n",
        "If the list is of 3000 elements, then how can we calucate the sum?"
      ]
    },
    {
      "cell_type": "code",
      "metadata": {
        "id": "u6474LKsAqf6",
        "colab_type": "code",
        "outputId": "7f172555-1e25-4da0-c3d0-bfa529446aad",
        "colab": {
          "base_uri": "https://localhost:8080/",
          "height": 34
        }
      },
      "source": [
        "print(\"Sum of \", numList, \" is \", numList[0]+numList[1]+numList[2])"
      ],
      "execution_count": 8,
      "outputs": [
        {
          "output_type": "stream",
          "text": [
            "Sum of  [2, 5, 10]  is  17\n"
          ],
          "name": "stdout"
        }
      ]
    },
    {
      "cell_type": "markdown",
      "metadata": {
        "id": "6MNg4rbA8IPJ",
        "colab_type": "text"
      },
      "source": [
        "We use the **control structure *for*** to iterate or visit list items one by one.\n",
        "The code following the line of *for* is repeated. In each iteration/repition, the variable *num* gets the next item of the list."
      ]
    },
    {
      "cell_type": "code",
      "metadata": {
        "id": "NNKxP-5cBWG3",
        "colab_type": "code",
        "outputId": "07e6d1c2-ca3d-4b51-a5da-5b3ef4ddf825",
        "colab": {
          "base_uri": "https://localhost:8080/",
          "height": 84
        }
      },
      "source": [
        "print(numList)\n",
        "\n",
        "for num in numList:\n",
        "  print(num)"
      ],
      "execution_count": 9,
      "outputs": [
        {
          "output_type": "stream",
          "text": [
            "[2, 5, 10]\n",
            "2\n",
            "5\n",
            "10\n"
          ],
          "name": "stdout"
        }
      ]
    },
    {
      "cell_type": "markdown",
      "metadata": {
        "id": "ZBGYvGlZ9fNh",
        "colab_type": "text"
      },
      "source": [
        "In the following code, we have a variable *sum* for the value of the result of adding all the elements of the list *numList*.\n",
        "At each iteration, value of a list item is added to the variable *sum* and hence it gets the total of all the items at the end."
      ]
    },
    {
      "cell_type": "code",
      "metadata": {
        "id": "1BhBMK2XBWUR",
        "colab_type": "code",
        "outputId": "702db629-823e-4ae0-f5d3-b833f0bab18d",
        "colab": {
          "base_uri": "https://localhost:8080/",
          "height": 34
        }
      },
      "source": [
        "sum = 0\n",
        "for num in numList:\n",
        "  sum = sum + num \n",
        "print(\"Sum of \", numList, \" is \", sum)"
      ],
      "execution_count": 10,
      "outputs": [
        {
          "output_type": "stream",
          "text": [
            "Sum of  [2, 5, 10]  is  17\n"
          ],
          "name": "stdout"
        }
      ]
    },
    {
      "cell_type": "markdown",
      "metadata": {
        "id": "Shb6GKcC6Udm",
        "colab_type": "text"
      },
      "source": [
        "**For any query/feedback, contact:**\n",
        "\n",
        "tafseer@gmail.com\n",
        "\n",
        "https://www.linkedin.com/in/tafseer-ahmed-8231a22/"
      ]
    },
    {
      "cell_type": "markdown",
      "metadata": {
        "id": "gnUImLwf9eVG",
        "colab_type": "text"
      },
      "source": [
        "# **Example 2: Dealing with Text**"
      ]
    },
    {
      "cell_type": "markdown",
      "metadata": {
        "id": "7VQDkgI-_7rT",
        "colab_type": "text"
      },
      "source": [
        "Now, we focus on another example. This example \n",
        "involves text.\n",
        "\n",
        "The following code has the function *input* that returns the text given to it. \n",
        "\n",
        "The second line uses the function *len* that returns length of the string (text).\n",
        "\n"
      ]
    },
    {
      "cell_type": "code",
      "metadata": {
        "id": "Y6T9GFoAyi-2",
        "colab_type": "code",
        "outputId": "291dea40-9d4a-4da9-ef13-2368e3ba5208",
        "colab": {
          "base_uri": "https://localhost:8080/",
          "height": 67
        }
      },
      "source": [
        "word = input(\"enter a word\\n\")\n",
        "print(\"Length: \", len(word))\n"
      ],
      "execution_count": 11,
      "outputs": [
        {
          "output_type": "stream",
          "text": [
            "enter a word\n",
            "Pakistan\n",
            "Length:  8\n"
          ],
          "name": "stdout"
        }
      ]
    },
    {
      "cell_type": "markdown",
      "metadata": {
        "id": "Xo5FvER3JLnt",
        "colab_type": "text"
      },
      "source": [
        "Now, we find count of vowel letters in the input word.\n",
        "\n",
        "The string object has a function counts that returns the count of the argument substring in the string."
      ]
    },
    {
      "cell_type": "code",
      "metadata": {
        "id": "ShH-X_M7JK1R",
        "colab_type": "code",
        "outputId": "5b02e164-8cc9-4ea7-eed3-56819e3080d7",
        "colab": {
          "base_uri": "https://localhost:8080/",
          "height": 101
        }
      },
      "source": [
        "print(\"Count of a:\", word.count(\"a\"))\n",
        "print(\"Count of e:\", word.count(\"e\"))\n",
        "print(\"Count of i:\", word.count(\"i\"))\n",
        "print(\"Count of o:\", word.count(\"o\"))\n",
        "print(\"Count of u:\", word.count(\"u\"))\n"
      ],
      "execution_count": 12,
      "outputs": [
        {
          "output_type": "stream",
          "text": [
            "Count of a: 2\n",
            "Count of e: 0\n",
            "Count of i: 1\n",
            "Count of o: 0\n",
            "Count of u: 0\n"
          ],
          "name": "stdout"
        }
      ]
    },
    {
      "cell_type": "markdown",
      "metadata": {
        "id": "fkjJjMx9MFbt",
        "colab_type": "text"
      },
      "source": [
        "We can count all the vowels in the string using *for*. \n",
        "\n",
        "Let us make a list of vowels. We can iterate through this list to print all the vowels."
      ]
    },
    {
      "cell_type": "code",
      "metadata": {
        "id": "tqMoHvxx1wRY",
        "colab_type": "code",
        "outputId": "b18bbc86-0e51-45c9-e252-4b560deb6e52",
        "colab": {
          "base_uri": "https://localhost:8080/",
          "height": 101
        }
      },
      "source": [
        "vowels = ['a','e','i','o','u']\n",
        "count = 0\n",
        "for v in vowels:\n",
        "  print(v)"
      ],
      "execution_count": 13,
      "outputs": [
        {
          "output_type": "stream",
          "text": [
            "a\n",
            "e\n",
            "i\n",
            "o\n",
            "u\n"
          ],
          "name": "stdout"
        }
      ]
    },
    {
      "cell_type": "markdown",
      "metadata": {
        "id": "QRESxUXcMcJn",
        "colab_type": "text"
      },
      "source": [
        "Now, we create a variable *vcount* to have count of vowels in the given word.\n",
        "\n",
        "The vowels are counted one by one, and the count of each vowel is added to *vcount*."
      ]
    },
    {
      "cell_type": "code",
      "metadata": {
        "id": "2XAfO1B_2Asg",
        "colab_type": "code",
        "outputId": "78c1e735-5c3b-4a8f-bf78-cb21240a4228",
        "colab": {
          "base_uri": "https://localhost:8080/",
          "height": 118
        }
      },
      "source": [
        "vcount = 0\n",
        "for v in vowels:\n",
        "  print(\"Count of \",v,\" is \", word.count(v))\n",
        "  vcount = vcount + word.count(v)\n",
        "\n",
        "print(\"count of vowels in \", word, \" is \", vcount)"
      ],
      "execution_count": 14,
      "outputs": [
        {
          "output_type": "stream",
          "text": [
            "Count of  a  is  2\n",
            "Count of  e  is  0\n",
            "Count of  i  is  1\n",
            "Count of  o  is  0\n",
            "Count of  u  is  0\n",
            "count of vowels in  Pakistan  is  3\n"
          ],
          "name": "stdout"
        }
      ]
    },
    {
      "cell_type": "markdown",
      "metadata": {
        "id": "yImncSEN4aOA",
        "colab_type": "text"
      },
      "source": [
        "For further learning, visit:\n",
        "\n",
        "https://www.learnpython.org/\n"
      ]
    },
    {
      "cell_type": "markdown",
      "metadata": {
        "id": "EjWs3mdu502h",
        "colab_type": "text"
      },
      "source": [
        "For any feedback/query, contact at \n",
        "\n",
        "tafseer@gmail.com\n",
        "\n",
        "\n",
        "\n"
      ]
    },
    {
      "cell_type": "markdown",
      "metadata": {
        "id": "aeT6sxNUOA26",
        "colab_type": "text"
      },
      "source": [
        "# Using Language Processing Libraries"
      ]
    },
    {
      "cell_type": "markdown",
      "metadata": {
        "id": "l3ifJ4yL44ib",
        "colab_type": "text"
      },
      "source": [
        "More information about NLP libraries are ate:\n",
        "\n",
        "https://spacy.io/\n",
        "\n",
        "https://www.nltk.org/book/\n"
      ]
    },
    {
      "cell_type": "markdown",
      "metadata": {
        "id": "zXLWher0Ojc0",
        "colab_type": "text"
      },
      "source": [
        "**Using spacy**\n",
        "\n",
        "The library *spacy* is imported (i.e. we say that we will use it in this code.)\n",
        "\n",
        "We use a model of language that is created using a small English corpus obtained from the web. For the model based on large corpus, we have to download the  model first."
      ]
    },
    {
      "cell_type": "code",
      "metadata": {
        "id": "8aOXDy8gN_2b",
        "colab_type": "code",
        "colab": {}
      },
      "source": [
        "import spacy\n",
        "\n",
        "nlp = spacy.load('en_core_web_sm')"
      ],
      "execution_count": 0,
      "outputs": []
    },
    {
      "cell_type": "code",
      "metadata": {
        "id": "39Ic2IxGPPaa",
        "colab_type": "code",
        "outputId": "98a3d6b8-b398-47d5-9c6d-59f9118c5483",
        "colab": {
          "base_uri": "https://localhost:8080/",
          "height": 218
        }
      },
      "source": [
        "doc = nlp(u'The linguists are learning Python.')\n",
        "\n",
        "for token in doc:\n",
        "    print(token.text)\n",
        "    print(\"Lemma: \", token.lemma_, \",Part of Speech: \",  token.pos_, \",Dep Relation: \", token.dep_, \",Dep Head: \", token.head)"
      ],
      "execution_count": 16,
      "outputs": [
        {
          "output_type": "stream",
          "text": [
            "The\n",
            "Lemma:  the ,Part of Speech:  DET ,Dep Relation:  det ,Dep Head:  linguists\n",
            "linguists\n",
            "Lemma:  linguist ,Part of Speech:  NOUN ,Dep Relation:  nsubj ,Dep Head:  learning\n",
            "are\n",
            "Lemma:  be ,Part of Speech:  AUX ,Dep Relation:  aux ,Dep Head:  learning\n",
            "learning\n",
            "Lemma:  learn ,Part of Speech:  VERB ,Dep Relation:  ROOT ,Dep Head:  learning\n",
            "Python\n",
            "Lemma:  Python ,Part of Speech:  PROPN ,Dep Relation:  dobj ,Dep Head:  learning\n",
            ".\n",
            "Lemma:  . ,Part of Speech:  PUNCT ,Dep Relation:  punct ,Dep Head:  learning\n"
          ],
          "name": "stdout"
        }
      ]
    }
  ]
}