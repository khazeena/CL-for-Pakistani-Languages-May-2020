{
  "nbformat": 4,
  "nbformat_minor": 0,
  "metadata": {
    "kernelspec": {
      "display_name": "Python 3",
      "language": "python",
      "name": "python3"
    },
    "language_info": {
      "codemirror_mode": {
        "name": "ipython",
        "version": 3
      },
      "file_extension": ".py",
      "mimetype": "text/x-python",
      "name": "python",
      "nbconvert_exporter": "python",
      "pygments_lexer": "ipython3",
      "version": "3.6.3"
    },
    "colab": {
      "name": "CLPL3c.ipynb",
      "provenance": []
    }
  },
  "cells": [
    {
      "cell_type": "markdown",
      "metadata": {
        "id": "gK3D6HTE-Ai3",
        "colab_type": "text"
      },
      "source": [
        "# Linguistica - Unsupervised Learning of Morphology\n",
        "\n",
        "https://linguistica-uchicago.github.io/lxa5/"
      ]
    },
    {
      "cell_type": "markdown",
      "metadata": {
        "id": "Ca_R7jtl-M6d",
        "colab_type": "text"
      },
      "source": [
        "installing linguistica"
      ]
    },
    {
      "cell_type": "code",
      "metadata": {
        "id": "_bGgbCTkKGGK",
        "colab_type": "code",
        "outputId": "17520e9f-39b1-4054-959e-efb28bf5e062",
        "colab": {
          "base_uri": "https://localhost:8080/",
          "height": 205
        }
      },
      "source": [
        "!pip install linguistica\n"
      ],
      "execution_count": 0,
      "outputs": [
        {
          "output_type": "stream",
          "text": [
            "Collecting linguistica\n",
            "\u001b[?25l  Downloading https://files.pythonhosted.org/packages/2f/0e/e8640acf92a27b334a6de30fece1ce86d994acce5e9824e37b1ed46c62c2/linguistica-5.2.1-py2.py3-none-any.whl (4.5MB)\n",
            "\u001b[K     |████████████████████████████████| 4.5MB 2.7MB/s \n",
            "\u001b[?25hRequirement already satisfied: networkx>=1.11 in /usr/local/lib/python3.6/dist-packages (from linguistica) (2.4)\n",
            "Requirement already satisfied: numpy>=1.12.1 in /usr/local/lib/python3.6/dist-packages (from linguistica) (1.18.4)\n",
            "Requirement already satisfied: six>=1.10.0 in /usr/local/lib/python3.6/dist-packages (from linguistica) (1.12.0)\n",
            "Requirement already satisfied: scipy>=0.19.0 in /usr/local/lib/python3.6/dist-packages (from linguistica) (1.4.1)\n",
            "Requirement already satisfied: decorator>=4.3.0 in /usr/local/lib/python3.6/dist-packages (from networkx>=1.11->linguistica) (4.4.2)\n",
            "Installing collected packages: linguistica\n",
            "Successfully installed linguistica-5.2.1\n"
          ],
          "name": "stdout"
        }
      ]
    },
    {
      "cell_type": "markdown",
      "metadata": {
        "id": "hHpav91h-YW6",
        "colab_type": "text"
      },
      "source": [
        "The corpus file is in the google drive. \n",
        "\n",
        "Mounting the google drive."
      ]
    },
    {
      "cell_type": "code",
      "metadata": {
        "id": "q7GyVoWmJXBm",
        "colab_type": "code",
        "outputId": "3a2071a4-fa29-45bd-d0b6-0a3dd700efe9",
        "colab": {
          "base_uri": "https://localhost:8080/",
          "height": 121
        }
      },
      "source": [
        "from google.colab import drive\n",
        "\n",
        "# This will prompt for authorization.\n",
        "drive.mount('/content/drive')"
      ],
      "execution_count": 0,
      "outputs": [
        {
          "output_type": "stream",
          "text": [
            "Go to this URL in a browser: https://accounts.google.com/o/oauth2/auth?client_id=947318989803-6bn6qk8qdgf4n4g3pfee6491hc0brc4i.apps.googleusercontent.com&redirect_uri=urn%3aietf%3awg%3aoauth%3a2.0%3aoob&response_type=code&scope=email%20https%3a%2f%2fwww.googleapis.com%2fauth%2fdocs.test%20https%3a%2f%2fwww.googleapis.com%2fauth%2fdrive%20https%3a%2f%2fwww.googleapis.com%2fauth%2fdrive.photos.readonly%20https%3a%2f%2fwww.googleapis.com%2fauth%2fpeopleapi.readonly\n",
            "\n",
            "Enter your authorization code:\n",
            "··········\n",
            "Mounted at /content/drive\n"
          ],
          "name": "stdout"
        }
      ]
    },
    {
      "cell_type": "code",
      "metadata": {
        "id": "EVqe29r5_FJ6",
        "colab_type": "code",
        "colab": {}
      },
      "source": [
        ""
      ],
      "execution_count": 0,
      "outputs": []
    },
    {
      "cell_type": "markdown",
      "metadata": {
        "id": "w7X6pryV_G8X",
        "colab_type": "text"
      },
      "source": [
        "Reading the corpus.\n",
        "\n",
        "It is better that the corpus is pre-pocessed as the urdu/arabic punctuation marks remain attached with the words in the current processing."
      ]
    },
    {
      "cell_type": "code",
      "metadata": {
        "id": "fmoQfiw2JXBp",
        "colab_type": "code",
        "colab": {}
      },
      "source": [
        "import linguistica as lxa\n",
        "\n",
        "lxa_object = lxa.read_corpus(\"/content/drive/My Drive/CLT20/Corpus/Mishkat-2.txt\",max_affix_length=2, min_stem_length = 3, min_sig_count=3, max_word_tokens=15000)"
      ],
      "execution_count": 0,
      "outputs": []
    },
    {
      "cell_type": "code",
      "metadata": {
        "id": "Ao1g6uwNPL4F",
        "colab_type": "code",
        "colab": {}
      },
      "source": [
        "#lxa_object = lxa.read_wordlist(\"/content/drive/My Drive/urdu-ein.csv\", max_affix_length=2, min_stem_length = 3 )"
      ],
      "execution_count": 0,
      "outputs": []
    },
    {
      "cell_type": "code",
      "metadata": {
        "id": "vX9YmCsW_kKQ",
        "colab_type": "code",
        "colab": {}
      },
      "source": [
        ""
      ],
      "execution_count": 0,
      "outputs": []
    },
    {
      "cell_type": "markdown",
      "metadata": {
        "id": "Dm8UyoP0_mLO",
        "colab_type": "text"
      },
      "source": [
        "The properties for the morphology learning. Some values are set above. Others have the default values. "
      ]
    },
    {
      "cell_type": "code",
      "metadata": {
        "id": "TBVwkOlyQGoc",
        "colab_type": "code",
        "outputId": "80f0d061-0116-40b1-c2e8-d0fb2f4c5d7d",
        "colab": {
          "base_uri": "https://localhost:8080/",
          "height": 185
        }
      },
      "source": [
        "lxa_object.parameters()"
      ],
      "execution_count": 0,
      "outputs": [
        {
          "output_type": "execute_result",
          "data": {
            "text/plain": [
              "{'keep_case': 0,\n",
              " 'max_affix_length': 2,\n",
              " 'max_word_tokens': 15000,\n",
              " 'max_word_types': 1000,\n",
              " 'min_context_count': 3,\n",
              " 'min_sig_count': 3,\n",
              " 'min_stem_length': 3,\n",
              " 'n_eigenvectors': 11,\n",
              " 'n_neighbors': 9,\n",
              " 'suffixing': 1}"
            ]
          },
          "metadata": {
            "tags": []
          },
          "execution_count": 6
        }
      ]
    },
    {
      "cell_type": "markdown",
      "metadata": {
        "id": "jeqtd1dB_0_H",
        "colab_type": "text"
      },
      "source": [
        "Listing all the affixes found."
      ]
    },
    {
      "cell_type": "code",
      "metadata": {
        "id": "oY6LjXi5P_kl",
        "colab_type": "code",
        "outputId": "01e9743c-ee21-471b-fb58-336f1ce50558",
        "colab": {
          "base_uri": "https://localhost:8080/",
          "height": 336
        }
      },
      "source": [
        "lxa_object.affixes()"
      ],
      "execution_count": 0,
      "outputs": [
        {
          "output_type": "execute_result",
          "data": {
            "text/plain": [
              "{'NULL',\n",
              " '،',\n",
              " 'ء',\n",
              " 'ئی',\n",
              " 'ا',\n",
              " 'ات',\n",
              " 'ت',\n",
              " 'ر',\n",
              " 'ل',\n",
              " 'وں',\n",
              " 'ْ',\n",
              " 'کَ',\n",
              " 'ں',\n",
              " 'ہ',\n",
              " 'ی',\n",
              " 'ین',\n",
              " 'یں',\n",
              " 'ے',\n",
              " '۔'}"
            ]
          },
          "metadata": {
            "tags": []
          },
          "execution_count": 7
        }
      ]
    },
    {
      "cell_type": "markdown",
      "metadata": {
        "id": "i5dvqbYx_7Va",
        "colab_type": "text"
      },
      "source": [
        "Listing all the signatures. Signatures are set of affixes that are attached with a wordset."
      ]
    },
    {
      "cell_type": "code",
      "metadata": {
        "id": "FaPzf3a-PsP2",
        "colab_type": "code",
        "outputId": "35dd4c74-322d-49a0-a019-3cb515c48715",
        "colab": {
          "base_uri": "https://localhost:8080/",
          "height": 386
        }
      },
      "source": [
        "lxa_object.signatures()"
      ],
      "execution_count": 0,
      "outputs": [
        {
          "output_type": "execute_result",
          "data": {
            "text/plain": [
              "{('NULL', '،'),\n",
              " ('NULL', '،', '۔'),\n",
              " ('NULL', 'ء'),\n",
              " ('NULL', 'ئی'),\n",
              " ('NULL', 'ت'),\n",
              " ('NULL', 'ر'),\n",
              " ('NULL', 'ل'),\n",
              " ('NULL', 'وں'),\n",
              " ('NULL', 'وں', 'یں'),\n",
              " ('NULL', 'ْ'),\n",
              " ('NULL', 'کَ'),\n",
              " ('NULL', 'ں'),\n",
              " ('NULL', 'ہ'),\n",
              " ('NULL', 'ی'),\n",
              " ('NULL', 'ین'),\n",
              " ('NULL', 'ے'),\n",
              " ('NULL', '۔'),\n",
              " ('ا', 'ی', 'ے'),\n",
              " ('ا', 'ے'),\n",
              " ('ات', 'ت'),\n",
              " ('ہ', 'ے'),\n",
              " ('ی', 'ے')}"
            ]
          },
          "metadata": {
            "tags": []
          },
          "execution_count": 8
        }
      ]
    },
    {
      "cell_type": "markdown",
      "metadata": {
        "id": "BAt-BpDBAJNP",
        "colab_type": "text"
      },
      "source": [
        "The signatures with the stems attached with the signature."
      ]
    },
    {
      "cell_type": "code",
      "metadata": {
        "id": "5ae2-4HaJXBs",
        "colab_type": "code",
        "outputId": "a7bed5f8-a437-4e6b-c3d9-5cd17287e85c",
        "colab": {
          "base_uri": "https://localhost:8080/",
          "height": 1000
        }
      },
      "source": [
        "lxa_object.signatures_to_stems()"
      ],
      "execution_count": 0,
      "outputs": [
        {
          "output_type": "execute_result",
          "data": {
            "text/plain": [
              "{('NULL', '،'): {'ابوبکر',\n",
              "  'ابوداؤد',\n",
              "  'اِنَّہ',\n",
              "  'بنایا',\n",
              "  'بچے',\n",
              "  'بھی',\n",
              "  'بیٹھتے',\n",
              "  'ترمذی',\n",
              "  'ثابت',\n",
              "  'ذکر',\n",
              "  'رمضان',\n",
              "  'رہتے',\n",
              "  'ساتھ',\n",
              "  'شافعی',\n",
              "  'شانہ',\n",
              "  'عائشہ',\n",
              "  'لگے',\n",
              "  'لہٰذا',\n",
              "  'ماجہ',\n",
              "  'مثل',\n",
              "  'مغرب',\n",
              "  'نسائی',\n",
              "  'پیچھے',\n",
              "  'ڈالا',\n",
              "  'کرنا',\n",
              "  'ہشام'},\n",
              " ('NULL', '،', '۔'): {'تھا',\n",
              "  'جائے',\n",
              "  'رہے',\n",
              "  'سکتا',\n",
              "  'پڑھتے',\n",
              "  'پھیرتے',\n",
              "  'کرتے',\n",
              "  'گیا',\n",
              "  'ہوئے',\n",
              "  'ہوا',\n",
              "  'ہوں'},\n",
              " ('NULL', 'ء'): {'دعا', 'قضا', 'وبا'},\n",
              " ('NULL', 'ئی'): {'رہا', 'ملا', 'ہمنوا'},\n",
              " ('NULL', 'ت'): {'جماع', 'حال', 'خلاف', 'سور', 'طاق', 'والی'},\n",
              " ('NULL', 'ر'): {'اسی', 'بہت', 'سرو', 'عام'},\n",
              " ('NULL', 'ل'): {'جنگ', 'دلی', 'مدلو', 'ناز'},\n",
              " ('NULL', 'وں'): {'آفت',\n",
              "  'اونٹ',\n",
              "  'بھائی',\n",
              "  'حالت',\n",
              "  'مسافر',\n",
              "  'مسلمان',\n",
              "  'مصیبت',\n",
              "  'مقتدی',\n",
              "  'نظر',\n",
              "  'پیغمبر',\n",
              "  'کافر',\n",
              "  'گناہ',\n",
              "  'گھر',\n",
              "  'ہاتھ'},\n",
              " ('NULL', 'وں', 'یں'): {'انہ', 'بات', 'رات', 'روایت', 'سنت', 'سورت', 'چیز'},\n",
              " ('NULL', 'ْ'): {'تَقْضِی', 'فِی', 'لِی', 'وَتَوَلَّنِی', 'وَقِنِی'},\n",
              " ('NULL', 'کَ'): {'رَبِّ', 'عَذَابَ', 'فَاِنَّ', 'مِنْ'},\n",
              " ('NULL', 'ں'): {'جاتی', 'رکعتی', 'لوگو', 'وہی', 'کہا', 'یہی'},\n",
              " ('NULL', 'ہ'): {'امام',\n",
              "  'حمد',\n",
              "  'حنفی',\n",
              "  'سلم',\n",
              "  'شان',\n",
              "  'صدیق',\n",
              "  'علی',\n",
              "  'متفق',\n",
              "  'موقع',\n",
              "  'موکد',\n",
              "  'کریم',\n",
              "  'کعب'},\n",
              " ('NULL', 'ی'): {'اختلاف',\n",
              "  'اخلاق',\n",
              "  'استحباب',\n",
              "  'اسلام',\n",
              "  'بخت',\n",
              "  'تنگ',\n",
              "  'جلد',\n",
              "  'خوش',\n",
              "  'درمیان',\n",
              "  'سال',\n",
              "  'شکر',\n",
              "  'ظاہر',\n",
              "  'عمل',\n",
              "  'فرض'},\n",
              " ('NULL', 'ین'): {'بہتر', 'تابع', 'دار', 'شوق', 'عید', 'محقق', 'کون'},\n",
              " ('NULL', 'ے'): {'بار', 'باندھ', 'مجھ'},\n",
              " ('NULL', '۔'): {'آتا',\n",
              "  'جائیں',\n",
              "  'دیا',\n",
              "  'رحمۃ',\n",
              "  'رکھے',\n",
              "  'رہنا',\n",
              "  'سمجھا',\n",
              "  'سکوں',\n",
              "  'فرماتے',\n",
              "  'فرمایا',\n",
              "  'وَالرُّوْحِ',\n",
              "  'وَتَعَالَیْتَ',\n",
              "  'پڑھو',\n",
              "  'پڑھیں',\n",
              "  'پڑھے',\n",
              "  'کئے',\n",
              "  'کریں',\n",
              "  'کیا',\n",
              "  'گئے',\n",
              "  'ہوتا'},\n",
              " ('ا', 'ی', 'ے'): {'اپن',\n",
              "  'ایس',\n",
              "  'تمہار',\n",
              "  'جانت',\n",
              "  'دوسر',\n",
              "  'پور',\n",
              "  'پڑھن',\n",
              "  'ہون'},\n",
              " ('ا', 'ے'): {'اٹھن',\n",
              "  'جتن',\n",
              "  'جیس',\n",
              "  'رکھت',\n",
              "  'لیت',\n",
              "  'لین',\n",
              "  'مانگت',\n",
              "  'پڑت',\n",
              "  'چاہت',\n",
              "  'کہن'},\n",
              " ('ات', 'ت'): {'برک', 'حضر', 'خصوصی', 'روای'},\n",
              " ('ہ', 'ے'): {'بند',\n",
              "  'حادث',\n",
              "  'درج',\n",
              "  'ذریع',\n",
              "  'راست',\n",
              "  'زمان',\n",
              "  'سجد',\n",
              "  'سلسل',\n",
              "  'فدی',\n",
              "  'مہین'},\n",
              " ('ی', 'ے'): {'سکھائ', 'پچھل', 'پہل', 'کیس'}}"
            ]
          },
          "metadata": {
            "tags": []
          },
          "execution_count": 9
        }
      ]
    },
    {
      "cell_type": "markdown",
      "metadata": {
        "id": "0--JjMHxApOp",
        "colab_type": "text"
      },
      "source": [
        "# Ployglot - using pre-trained morfessor models \n",
        "\n",
        "https://polyglot.readthedocs.io/"
      ]
    },
    {
      "cell_type": "markdown",
      "metadata": {
        "id": "uH6wf8ohA4rY",
        "colab_type": "text"
      },
      "source": [
        "Installing the libraries required by polyglot\n",
        "\n"
      ]
    },
    {
      "cell_type": "code",
      "metadata": {
        "id": "Q_PqxdymCQEG",
        "colab_type": "code",
        "outputId": "f659b33f-2897-4a45-f954-bedd1eb0cb89",
        "colab": {
          "base_uri": "https://localhost:8080/",
          "height": 222
        }
      },
      "source": [
        "!brew install icu4c\n",
        "!export ICU_VERSION=58\n",
        "!export PYICU_INCLUDES=/usr/local/Cellar/icu4c/58.2/include\n",
        "!export PYICU_LFLAGS=-L/usr/local/Cellar/icu4c/58.2/lib\n",
        "!pip install pyicu"
      ],
      "execution_count": 0,
      "outputs": [
        {
          "output_type": "stream",
          "text": [
            "/bin/bash: brew: command not found\n",
            "Collecting pyicu\n",
            "\u001b[?25l  Downloading https://files.pythonhosted.org/packages/57/b2/66a58057a537527d7307576f2d32f239cc411b911401276d6922caa94755/PyICU-2.4.3.tar.gz (219kB)\n",
            "\u001b[K     |████████████████████████████████| 225kB 2.7MB/s \n",
            "\u001b[?25hBuilding wheels for collected packages: pyicu\n",
            "  Building wheel for pyicu (setup.py) ... \u001b[?25l\u001b[?25hdone\n",
            "  Created wheel for pyicu: filename=PyICU-2.4.3-cp36-cp36m-linux_x86_64.whl size=1246975 sha256=4664fc5869f3eed26a9206311ae46fbe9ef7e3e6c80efb96208c9b9ad9fae7c8\n",
            "  Stored in directory: /root/.cache/pip/wheels/ca/14/f9/1d75d2d4be2e0169d986ccde156e25d9c772c91602dff3acc9\n",
            "Successfully built pyicu\n",
            "Installing collected packages: pyicu\n",
            "Successfully installed pyicu-2.4.3\n"
          ],
          "name": "stdout"
        }
      ]
    },
    {
      "cell_type": "code",
      "metadata": {
        "id": "FoRGt86TCQPH",
        "colab_type": "code",
        "outputId": "f5e75954-27a7-4012-e1ec-924a23e0a7d6",
        "colab": {
          "base_uri": "https://localhost:8080/",
          "height": 205
        }
      },
      "source": [
        "!pip install pycld2\n"
      ],
      "execution_count": 0,
      "outputs": [
        {
          "output_type": "stream",
          "text": [
            "Collecting pycld2\n",
            "\u001b[?25l  Downloading https://files.pythonhosted.org/packages/21/d2/8b0def84a53c88d0eb27c67b05269fbd16ad68df8c78849e7b5d65e6aec3/pycld2-0.41.tar.gz (41.4MB)\n",
            "\u001b[K     |████████████████████████████████| 41.4MB 108kB/s \n",
            "\u001b[?25hBuilding wheels for collected packages: pycld2\n",
            "  Building wheel for pycld2 (setup.py) ... \u001b[?25l\u001b[?25hdone\n",
            "  Created wheel for pycld2: filename=pycld2-0.41-cp36-cp36m-linux_x86_64.whl size=9833546 sha256=eae095a311a1fa25014785994338853345f35a4aebecadd42f8e8d47601ae500\n",
            "  Stored in directory: /root/.cache/pip/wheels/c6/8f/e9/08a1a8932a490175bd140206cd86a3dbcfc70498100de11079\n",
            "Successfully built pycld2\n",
            "Installing collected packages: pycld2\n",
            "Successfully installed pycld2-0.41\n"
          ],
          "name": "stdout"
        }
      ]
    },
    {
      "cell_type": "markdown",
      "metadata": {
        "id": "_2XPGxiCCdjy",
        "colab_type": "text"
      },
      "source": [
        "installing polyglot"
      ]
    },
    {
      "cell_type": "code",
      "metadata": {
        "id": "kak6LGeoJXBy",
        "colab_type": "code",
        "outputId": "a191c030-3c2c-4ef4-9722-87063c04f4f6",
        "colab": {
          "base_uri": "https://localhost:8080/",
          "height": 205
        }
      },
      "source": [
        "!pip install polyglot\n"
      ],
      "execution_count": 0,
      "outputs": [
        {
          "output_type": "stream",
          "text": [
            "Collecting polyglot\n",
            "\u001b[?25l  Downloading https://files.pythonhosted.org/packages/e7/98/e24e2489114c5112b083714277204d92d372f5bbe00d5507acf40370edb9/polyglot-16.7.4.tar.gz (126kB)\n",
            "\r\u001b[K     |██▋                             | 10kB 17.9MB/s eta 0:00:01\r\u001b[K     |█████▏                          | 20kB 1.7MB/s eta 0:00:01\r\u001b[K     |███████▉                        | 30kB 2.3MB/s eta 0:00:01\r\u001b[K     |██████████▍                     | 40kB 3.0MB/s eta 0:00:01\r\u001b[K     |█████████████                   | 51kB 2.1MB/s eta 0:00:01\r\u001b[K     |███████████████▋                | 61kB 2.4MB/s eta 0:00:01\r\u001b[K     |██████████████████▏             | 71kB 2.8MB/s eta 0:00:01\r\u001b[K     |████████████████████▊           | 81kB 3.1MB/s eta 0:00:01\r\u001b[K     |███████████████████████▍        | 92kB 3.5MB/s eta 0:00:01\r\u001b[K     |██████████████████████████      | 102kB 2.7MB/s eta 0:00:01\r\u001b[K     |████████████████████████████▌   | 112kB 2.7MB/s eta 0:00:01\r\u001b[K     |███████████████████████████████▏| 122kB 2.7MB/s eta 0:00:01\r\u001b[K     |████████████████████████████████| 133kB 2.7MB/s \n",
            "\u001b[?25hBuilding wheels for collected packages: polyglot\n",
            "  Building wheel for polyglot (setup.py) ... \u001b[?25l\u001b[?25hdone\n",
            "  Created wheel for polyglot: filename=polyglot-16.7.4-py2.py3-none-any.whl size=52557 sha256=2cfe2b7fea811f4cd4ac16616a102f7794f7a6b0cda285eac0bb2835ba02d648\n",
            "  Stored in directory: /root/.cache/pip/wheels/5e/91/ef/f1369fdc1203b0a9347d4b24f149b83a305f39ab047986d9da\n",
            "Successfully built polyglot\n",
            "Installing collected packages: polyglot\n",
            "Successfully installed polyglot-16.7.4\n"
          ],
          "name": "stdout"
        }
      ]
    },
    {
      "cell_type": "code",
      "metadata": {
        "id": "zOlcsg1kJXB1",
        "colab_type": "code",
        "outputId": "0f0c1938-06c1-4a95-e1ab-fa4e5ff7c14e",
        "colab": {
          "base_uri": "https://localhost:8080/",
          "height": 104
        }
      },
      "source": [
        "!pip install morfessor"
      ],
      "execution_count": 0,
      "outputs": [
        {
          "output_type": "stream",
          "text": [
            "Collecting morfessor\n",
            "  Downloading https://files.pythonhosted.org/packages/39/e6/7afea30be2ee4d29ce9de0fa53acbb033163615f849515c0b1956ad074ee/Morfessor-2.0.6-py3-none-any.whl\n",
            "Installing collected packages: morfessor\n",
            "Successfully installed morfessor-2.0.6\n"
          ],
          "name": "stdout"
        }
      ]
    },
    {
      "cell_type": "code",
      "metadata": {
        "id": "9xLCQAbwJXB4",
        "colab_type": "code",
        "outputId": "61a39487-0837-40f8-a9c4-c2e6a6843f3b",
        "colab": {
          "base_uri": "https://localhost:8080/",
          "height": 50
        }
      },
      "source": [
        "!polyglot download morph2.ur"
      ],
      "execution_count": 0,
      "outputs": [
        {
          "output_type": "stream",
          "text": [
            "[polyglot_data] Downloading package morph2.ur to\n",
            "[polyglot_data]     /root/polyglot_data...\n"
          ],
          "name": "stdout"
        }
      ]
    },
    {
      "cell_type": "code",
      "metadata": {
        "id": "OUnqy4eTDOo3",
        "colab_type": "code",
        "outputId": "ea901a73-e6c5-41a2-cd79-da3aeaa45e6a",
        "colab": {
          "base_uri": "https://localhost:8080/",
          "height": 151
        }
      },
      "source": [
        "from polyglot.text import Text, Word\n",
        "\n",
        "processed = Text(\"لڑکیاں کتابیں لڑکوں ملکوں شہروں گرتا گرتے لکھواتی\")\n",
        "\n",
        "for w in processed.words:\n",
        "  print(w.morphemes)"
      ],
      "execution_count": 0,
      "outputs": [
        {
          "output_type": "stream",
          "text": [
            "['لڑ', 'ک', 'یاں']\n",
            "['کتاب', 'یں']\n",
            "['لڑ', 'ک', 'وں']\n",
            "['ملک', 'وں']\n",
            "['شہر', 'وں']\n",
            "['گر', 'تا']\n",
            "['گر', 'تے']\n",
            "['لکھوا', 'تی']\n"
          ],
          "name": "stdout"
        }
      ]
    }
  ]
}